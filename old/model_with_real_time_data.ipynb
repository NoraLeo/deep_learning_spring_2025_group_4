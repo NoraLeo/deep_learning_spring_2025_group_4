{
 "cells": [
  {
   "cell_type": "markdown",
   "metadata": {},
   "source": [
    "# Notebook for model architecture"
   ]
  },
  {
   "cell_type": "markdown",
   "metadata": {},
   "source": [
    "## Imports"
   ]
  },
  {
   "cell_type": "code",
   "execution_count": 3,
   "metadata": {},
   "outputs": [],
   "source": [
    "#imports for the plot\n",
    "import matplotlib.pyplot as plt\n",
    "\n",
    "#imports for torch\n",
    "import torch\n",
    "import torch.nn as nn\n",
    "import torch.nn.functional as F\n",
    "import torch.optim as optim\n",
    "\n",
    "# imports for the data\n",
    "import kagglehub\n",
    "import pandas as pd\n",
    "import os\n",
    "import numpy as np\n",
    "import math\n",
    "import yfinance as yf"
   ]
  },
  {
   "cell_type": "markdown",
   "metadata": {},
   "source": [
    "## Load the data"
   ]
  },
  {
   "cell_type": "code",
   "execution_count": 18,
   "metadata": {},
   "outputs": [
    {
     "name": "stdout",
     "output_type": "stream",
     "text": [
      "cuda\n"
     ]
    }
   ],
   "source": [
    "# Use GPU if available, else use CPU\n",
    "device = torch.device(\"cuda\" if torch.cuda.is_available() else \"cpu\")\n",
    "print(device)"
   ]
  },
  {
   "cell_type": "code",
   "execution_count": 11,
   "metadata": {},
   "outputs": [
    {
     "name": "stderr",
     "output_type": "stream",
     "text": [
      "[*********************100%***********************]  1 of 1 completed\n"
     ]
    },
    {
     "data": {
      "text/html": [
       "<div>\n",
       "<style scoped>\n",
       "    .dataframe tbody tr th:only-of-type {\n",
       "        vertical-align: middle;\n",
       "    }\n",
       "\n",
       "    .dataframe tbody tr th {\n",
       "        vertical-align: top;\n",
       "    }\n",
       "\n",
       "    .dataframe thead tr th {\n",
       "        text-align: left;\n",
       "    }\n",
       "\n",
       "    .dataframe thead tr:last-of-type th {\n",
       "        text-align: right;\n",
       "    }\n",
       "</style>\n",
       "<table border=\"1\" class=\"dataframe\">\n",
       "  <thead>\n",
       "    <tr>\n",
       "      <th>Price</th>\n",
       "      <th>Adj Close</th>\n",
       "      <th>Close</th>\n",
       "      <th>High</th>\n",
       "      <th>Low</th>\n",
       "      <th>Open</th>\n",
       "      <th>Volume</th>\n",
       "    </tr>\n",
       "    <tr>\n",
       "      <th>Ticker</th>\n",
       "      <th>NVDA</th>\n",
       "      <th>NVDA</th>\n",
       "      <th>NVDA</th>\n",
       "      <th>NVDA</th>\n",
       "      <th>NVDA</th>\n",
       "      <th>NVDA</th>\n",
       "    </tr>\n",
       "    <tr>\n",
       "      <th>Date</th>\n",
       "      <th></th>\n",
       "      <th></th>\n",
       "      <th></th>\n",
       "      <th></th>\n",
       "      <th></th>\n",
       "      <th></th>\n",
       "    </tr>\n",
       "  </thead>\n",
       "  <tbody>\n",
       "    <tr>\n",
       "      <th>1999-01-22</th>\n",
       "      <td>0.037612</td>\n",
       "      <td>0.041016</td>\n",
       "      <td>0.048828</td>\n",
       "      <td>0.038802</td>\n",
       "      <td>0.043750</td>\n",
       "      <td>2714688000</td>\n",
       "    </tr>\n",
       "    <tr>\n",
       "      <th>1999-01-25</th>\n",
       "      <td>0.041552</td>\n",
       "      <td>0.045313</td>\n",
       "      <td>0.045833</td>\n",
       "      <td>0.041016</td>\n",
       "      <td>0.044271</td>\n",
       "      <td>510480000</td>\n",
       "    </tr>\n",
       "    <tr>\n",
       "      <th>1999-01-26</th>\n",
       "      <td>0.038328</td>\n",
       "      <td>0.041797</td>\n",
       "      <td>0.046745</td>\n",
       "      <td>0.041146</td>\n",
       "      <td>0.045833</td>\n",
       "      <td>343200000</td>\n",
       "    </tr>\n",
       "    <tr>\n",
       "      <th>1999-01-27</th>\n",
       "      <td>0.038209</td>\n",
       "      <td>0.041667</td>\n",
       "      <td>0.042969</td>\n",
       "      <td>0.039583</td>\n",
       "      <td>0.041927</td>\n",
       "      <td>244368000</td>\n",
       "    </tr>\n",
       "    <tr>\n",
       "      <th>1999-01-28</th>\n",
       "      <td>0.038089</td>\n",
       "      <td>0.041536</td>\n",
       "      <td>0.041927</td>\n",
       "      <td>0.041276</td>\n",
       "      <td>0.041667</td>\n",
       "      <td>227520000</td>\n",
       "    </tr>\n",
       "  </tbody>\n",
       "</table>\n",
       "</div>"
      ],
      "text/plain": [
       "Price      Adj Close     Close      High       Low      Open      Volume\n",
       "Ticker          NVDA      NVDA      NVDA      NVDA      NVDA        NVDA\n",
       "Date                                                                    \n",
       "1999-01-22  0.037612  0.041016  0.048828  0.038802  0.043750  2714688000\n",
       "1999-01-25  0.041552  0.045313  0.045833  0.041016  0.044271   510480000\n",
       "1999-01-26  0.038328  0.041797  0.046745  0.041146  0.045833   343200000\n",
       "1999-01-27  0.038209  0.041667  0.042969  0.039583  0.041927   244368000\n",
       "1999-01-28  0.038089  0.041536  0.041927  0.041276  0.041667   227520000"
      ]
     },
     "execution_count": 11,
     "metadata": {},
     "output_type": "execute_result"
    }
   ],
   "source": [
    "df = yf.download(\"NVDA\", start=\"1999-01-22\", end=\"2025-03-15\", auto_adjust=False)\n",
    "df.head()"
   ]
  },
  {
   "cell_type": "code",
   "execution_count": 12,
   "metadata": {},
   "outputs": [
    {
     "data": {
      "text/html": [
       "<div>\n",
       "<style scoped>\n",
       "    .dataframe tbody tr th:only-of-type {\n",
       "        vertical-align: middle;\n",
       "    }\n",
       "\n",
       "    .dataframe tbody tr th {\n",
       "        vertical-align: top;\n",
       "    }\n",
       "\n",
       "    .dataframe thead th {\n",
       "        text-align: right;\n",
       "    }\n",
       "</style>\n",
       "<table border=\"1\" class=\"dataframe\">\n",
       "  <thead>\n",
       "    <tr style=\"text-align: right;\">\n",
       "      <th></th>\n",
       "      <th>Adj Close</th>\n",
       "      <th>Close</th>\n",
       "      <th>High</th>\n",
       "      <th>Low</th>\n",
       "      <th>Open</th>\n",
       "      <th>Volume</th>\n",
       "    </tr>\n",
       "    <tr>\n",
       "      <th>Date</th>\n",
       "      <th></th>\n",
       "      <th></th>\n",
       "      <th></th>\n",
       "      <th></th>\n",
       "      <th></th>\n",
       "      <th></th>\n",
       "    </tr>\n",
       "  </thead>\n",
       "  <tbody>\n",
       "    <tr>\n",
       "      <th>1999-01-22</th>\n",
       "      <td>0.037612</td>\n",
       "      <td>0.041016</td>\n",
       "      <td>0.048828</td>\n",
       "      <td>0.038802</td>\n",
       "      <td>0.043750</td>\n",
       "      <td>2714688000</td>\n",
       "    </tr>\n",
       "    <tr>\n",
       "      <th>1999-01-25</th>\n",
       "      <td>0.041552</td>\n",
       "      <td>0.045313</td>\n",
       "      <td>0.045833</td>\n",
       "      <td>0.041016</td>\n",
       "      <td>0.044271</td>\n",
       "      <td>510480000</td>\n",
       "    </tr>\n",
       "    <tr>\n",
       "      <th>1999-01-26</th>\n",
       "      <td>0.038328</td>\n",
       "      <td>0.041797</td>\n",
       "      <td>0.046745</td>\n",
       "      <td>0.041146</td>\n",
       "      <td>0.045833</td>\n",
       "      <td>343200000</td>\n",
       "    </tr>\n",
       "    <tr>\n",
       "      <th>1999-01-27</th>\n",
       "      <td>0.038209</td>\n",
       "      <td>0.041667</td>\n",
       "      <td>0.042969</td>\n",
       "      <td>0.039583</td>\n",
       "      <td>0.041927</td>\n",
       "      <td>244368000</td>\n",
       "    </tr>\n",
       "    <tr>\n",
       "      <th>1999-01-28</th>\n",
       "      <td>0.038089</td>\n",
       "      <td>0.041536</td>\n",
       "      <td>0.041927</td>\n",
       "      <td>0.041276</td>\n",
       "      <td>0.041667</td>\n",
       "      <td>227520000</td>\n",
       "    </tr>\n",
       "  </tbody>\n",
       "</table>\n",
       "</div>"
      ],
      "text/plain": [
       "            Adj Close     Close      High       Low      Open      Volume\n",
       "Date                                                                     \n",
       "1999-01-22   0.037612  0.041016  0.048828  0.038802  0.043750  2714688000\n",
       "1999-01-25   0.041552  0.045313  0.045833  0.041016  0.044271   510480000\n",
       "1999-01-26   0.038328  0.041797  0.046745  0.041146  0.045833   343200000\n",
       "1999-01-27   0.038209  0.041667  0.042969  0.039583  0.041927   244368000\n",
       "1999-01-28   0.038089  0.041536  0.041927  0.041276  0.041667   227520000"
      ]
     },
     "execution_count": 12,
     "metadata": {},
     "output_type": "execute_result"
    }
   ],
   "source": [
    "column_names = df.columns.get_level_values(0).tolist()\n",
    "df.columns = column_names\n",
    "df.head()"
   ]
  },
  {
   "cell_type": "code",
   "execution_count": 13,
   "metadata": {},
   "outputs": [
    {
     "data": {
      "text/plain": [
       "<matplotlib.legend.Legend at 0x25ceec47350>"
      ]
     },
     "execution_count": 13,
     "metadata": {},
     "output_type": "execute_result"
    },
    {
     "data": {
      "image/png": "[encoded data removed]",
      "text/plain": [
       "<Figure size 1400x700 with 1 Axes>"
      ]
     },
     "metadata": {},
     "output_type": "display_data"
    }
   ],
   "source": [
    "#create a column for the opening price of the next day\n",
    "df['Next_Open'] = df['Open'].shift(-1)\n",
    "df = df.dropna()\n",
    "\n",
    "#plot the data\n",
    "plt.figure(figsize=(14, 7))\n",
    "plt.plot(df.index, df['Open'], label='Open')\n",
    "plt.plot(df.index, df['Close'], label='Close')\n",
    "plt.plot(df.index, df['High'], label='High')\n",
    "plt.plot(df.index, df['Low'], label='Low')\n",
    "plt.legend()"
   ]
  },
  {
   "cell_type": "code",
   "execution_count": 14,
   "metadata": {},
   "outputs": [
    {
     "data": {
      "text/html": [
       "<div>\n",
       "<style scoped>\n",
       "    .dataframe tbody tr th:only-of-type {\n",
       "        vertical-align: middle;\n",
       "    }\n",
       "\n",
       "    .dataframe tbody tr th {\n",
       "        vertical-align: top;\n",
       "    }\n",
       "\n",
       "    .dataframe thead th {\n",
       "        text-align: right;\n",
       "    }\n",
       "</style>\n",
       "<table border=\"1\" class=\"dataframe\">\n",
       "  <thead>\n",
       "    <tr style=\"text-align: right;\">\n",
       "      <th></th>\n",
       "      <th>Adj Close</th>\n",
       "      <th>Close</th>\n",
       "      <th>High</th>\n",
       "      <th>Low</th>\n",
       "      <th>Open</th>\n",
       "      <th>Volume</th>\n",
       "      <th>Next_Open</th>\n",
       "    </tr>\n",
       "  </thead>\n",
       "  <tbody>\n",
       "    <tr>\n",
       "      <th>count</th>\n",
       "      <td>6576.000000</td>\n",
       "      <td>6576.000000</td>\n",
       "      <td>6576.000000</td>\n",
       "      <td>6576.000000</td>\n",
       "      <td>6576.000000</td>\n",
       "      <td>6.576000e+03</td>\n",
       "      <td>6576.000000</td>\n",
       "    </tr>\n",
       "    <tr>\n",
       "      <th>mean</th>\n",
       "      <td>9.078872</td>\n",
       "      <td>9.106545</td>\n",
       "      <td>9.278503</td>\n",
       "      <td>8.922732</td>\n",
       "      <td>9.111640</td>\n",
       "      <td>5.983126e+08</td>\n",
       "      <td>9.129670</td>\n",
       "    </tr>\n",
       "    <tr>\n",
       "      <th>std</th>\n",
       "      <td>24.606490</td>\n",
       "      <td>24.606150</td>\n",
       "      <td>25.087566</td>\n",
       "      <td>24.105409</td>\n",
       "      <td>24.646650</td>\n",
       "      <td>4.304237e+08</td>\n",
       "      <td>24.683356</td>\n",
       "    </tr>\n",
       "    <tr>\n",
       "      <th>min</th>\n",
       "      <td>0.031283</td>\n",
       "      <td>0.034115</td>\n",
       "      <td>0.035547</td>\n",
       "      <td>0.033333</td>\n",
       "      <td>0.034896</td>\n",
       "      <td>1.968000e+07</td>\n",
       "      <td>0.034896</td>\n",
       "    </tr>\n",
       "    <tr>\n",
       "      <th>25%</th>\n",
       "      <td>0.258380</td>\n",
       "      <td>0.281766</td>\n",
       "      <td>0.289187</td>\n",
       "      <td>0.273625</td>\n",
       "      <td>0.281062</td>\n",
       "      <td>3.377800e+08</td>\n",
       "      <td>0.281208</td>\n",
       "    </tr>\n",
       "    <tr>\n",
       "      <th>50%</th>\n",
       "      <td>0.437858</td>\n",
       "      <td>0.467250</td>\n",
       "      <td>0.474083</td>\n",
       "      <td>0.460125</td>\n",
       "      <td>0.467500</td>\n",
       "      <td>4.994920e+08</td>\n",
       "      <td>0.467500</td>\n",
       "    </tr>\n",
       "    <tr>\n",
       "      <th>75%</th>\n",
       "      <td>4.672070</td>\n",
       "      <td>4.707813</td>\n",
       "      <td>4.776250</td>\n",
       "      <td>4.632250</td>\n",
       "      <td>4.726437</td>\n",
       "      <td>7.302070e+08</td>\n",
       "      <td>4.732750</td>\n",
       "    </tr>\n",
       "    <tr>\n",
       "      <th>max</th>\n",
       "      <td>149.416245</td>\n",
       "      <td>149.429993</td>\n",
       "      <td>153.130005</td>\n",
       "      <td>147.820007</td>\n",
       "      <td>153.029999</td>\n",
       "      <td>9.230856e+09</td>\n",
       "      <td>153.029999</td>\n",
       "    </tr>\n",
       "  </tbody>\n",
       "</table>\n",
       "</div>"
      ],
      "text/plain": [
       "         Adj Close        Close         High          Low         Open  \\\n",
       "count  6576.000000  6576.000000  6576.000000  6576.000000  6576.000000   \n",
       "mean      9.078872     9.106545     9.278503     8.922732     9.111640   \n",
       "std      24.606490    24.606150    25.087566    24.105409    24.646650   \n",
       "min       0.031283     0.034115     0.035547     0.033333     0.034896   \n",
       "25%       0.258380     0.281766     0.289187     0.273625     0.281062   \n",
       "50%       0.437858     0.467250     0.474083     0.460125     0.467500   \n",
       "75%       4.672070     4.707813     4.776250     4.632250     4.726437   \n",
       "max     149.416245   149.429993   153.130005   147.820007   153.029999   \n",
       "\n",
       "             Volume    Next_Open  \n",
       "count  6.576000e+03  6576.000000  \n",
       "mean   5.983126e+08     9.129670  \n",
       "std    4.304237e+08    24.683356  \n",
       "min    1.968000e+07     0.034896  \n",
       "25%    3.377800e+08     0.281208  \n",
       "50%    4.994920e+08     0.467500  \n",
       "75%    7.302070e+08     4.732750  \n",
       "max    9.230856e+09   153.029999  "
      ]
     },
     "execution_count": 14,
     "metadata": {},
     "output_type": "execute_result"
    }
   ],
   "source": [
    "#statistical analysis of the data\n",
    "df.describe()"
   ]
  },
  {
   "cell_type": "code",
   "execution_count": 15,
   "metadata": {},
   "outputs": [
    {
     "name": "stdout",
     "output_type": "stream",
     "text": [
      "(4932, 7) (1644, 7)\n"
     ]
    }
   ],
   "source": [
    "#create dataset/dataloader objects\n",
    "class StockDataset(torch.utils.data.Dataset):\n",
    "    def __init__(self, data, window_size):\n",
    "        self.data = data\n",
    "        self.window_size = window_size\n",
    "\n",
    "    def __len__(self):\n",
    "        return len(self.data) - self.window_size\n",
    "\n",
    "    def __getitem__(self, idx):\n",
    "        # Select columns corresponding to the different inputs and outputs from the dataframe we just created.\n",
    "        # And convert to PyTorch tensors\n",
    "        x1 = torch.tensor(self.data.iloc[idx:idx + self.window_size]['Adj Close'].values, dtype=torch.float32)\n",
    "        x2 = torch.tensor(self.data.iloc[idx:idx + self.window_size]['Close'].values, dtype=torch.float32)\n",
    "        x3 = torch.tensor(self.data.iloc[idx:idx + self.window_size]['High'].values, dtype=torch.float32)\n",
    "        x4 = torch.tensor(self.data.iloc[idx:idx + self.window_size]['Low'].values, dtype=torch.float32)\n",
    "        x5 = torch.tensor(self.data.iloc[idx:idx + self.window_size]['Open'].values, dtype=torch.float32)\n",
    "        x6 = torch.tensor(self.data.iloc[idx:idx + self.window_size]['Volume'].values, dtype=torch.float32)\n",
    "        y = torch.tensor(self.data.iloc[idx + self.window_size]['Next_Open'], dtype=torch.float32)\n",
    "        # Assemble all input features in a single inputs tensor with 2 columns and rows for each sample in the dataset.\n",
    "        inputs = torch.stack([x1, x2, x3, x4, x5, x6], dim = 0)\n",
    "        return inputs, y\n",
    "    \n",
    "\n",
    "#train-test split\n",
    "train_size = int(len(df) * 0.75)\n",
    "test_size = len(df) - train_size\n",
    "train_data = df.iloc[:train_size, :]\n",
    "test_data = df.iloc[train_size:, :]\n",
    "print(train_data.shape, test_data.shape)\n",
    "\n",
    "train_dataset = StockDataset(train_data, window_size=10)\n",
    "test_dataset = StockDataset(test_data, window_size=10)\n",
    "\n",
    "train_loader = torch.utils.data.DataLoader(train_dataset, batch_size=64, shuffle=True)\n",
    "test_loader = torch.utils.data.DataLoader(test_dataset, batch_size=64, shuffle=False)\n",
    "\n"
   ]
  },
  {
   "cell_type": "code",
   "execution_count": null,
   "metadata": {},
   "outputs": [],
   "source": [
    "#model\n",
    "class LSTM(torch.nn.Module):\n",
    "    def __init__(self, input_size, hidden_size, num_layers, output_size):\n",
    "        super(LSTM, self).__init__()\n",
    "        self.input_size = input_size #numbers of features in input\n",
    "        self.hidden_size = hidden_size #number of features in hidden state\n",
    "        self.output_size = output_size\n",
    "        self.num_layers = num_layers\n",
    "        \n",
    "        # LSTM cell\n",
    "        self.lstm = torch.nn.LSTM(input_size, hidden_size, num_layers = self.num_layers, \n",
    "                                  batch_first = True)\n",
    "        self.dropout = torch.nn.Dropout(0.2)\n",
    "\n",
    "        \n",
    "        # Linear layer for final prediction\n",
    "        self.linear = torch.nn.Linear(hidden_size, output_size)\n",
    "\n",
    "    def forward(self, input_size, h0=None, c0=None):\n",
    "        if h0 is None or c0 is None:\n",
    "            h0 = torch.randn(self.num_layers, input_size, self.hidden_size).to(device)\n",
    "            c0 = torch.randn(self.num_layers, input_size, self.hidden_size).to(device)\n",
    "        \n",
    "        out, (hn, cn) = self.lstm(input_size, (h0, c0))\n",
    "        out = self.linear(out[:, -1, :])\n",
    "        return out, hn, cn"
   ]
  },
  {
   "cell_type": "code",
   "execution_count": 19,
   "metadata": {},
   "outputs": [
    {
     "name": "stdout",
     "output_type": "stream",
     "text": [
      "LSTM(\n",
      "  (lstm): LSTM(10, 12, num_layers=2, batch_first=True)\n",
      "  (linear): Linear(in_features=12, out_features=1, bias=True)\n",
      ")\n"
     ]
    }
   ],
   "source": [
    "# Define the model parameters\n",
    "input_size = 10\n",
    "hidden_size = 12\n",
    "num_layers = 2\n",
    "output_size = 1\n",
    "\n",
    "#Create the model\n",
    "model = LSTM(input_size, hidden_size, num_layers, output_size).to(device)\n",
    "print(model)"
   ]
  },
  {
   "cell_type": "code",
   "execution_count": 20,
   "metadata": {},
   "outputs": [
    {
     "name": "stdout",
     "output_type": "stream",
     "text": [
      "torch.Size([64, 6, 10]) torch.Size([64])\n"
     ]
    }
   ],
   "source": [
    "#display sized of inputs and targets in train_loader\n",
    "for inputs, targets in train_loader:\n",
    "    print(inputs.shape, targets.shape) \n",
    "    #inputs is a tensor of size [batch_size, 6, 10] and targets is a tensor of size [batch_size]\n",
    "    break"
   ]
  },
  {
   "cell_type": "code",
   "execution_count": 21,
   "metadata": {},
   "outputs": [
    {
     "name": "stdout",
     "output_type": "stream",
     "text": [
      "Epoch: 10/100, Loss: 0.007258178200572729\n",
      "Epoch: 20/100, Loss: 0.0037383537273854017\n",
      "Epoch: 30/100, Loss: 0.007715380750596523\n",
      "Epoch: 40/100, Loss: 0.0013051514979451895\n",
      "Epoch: 50/100, Loss: 0.004606332164257765\n",
      "Epoch: 60/100, Loss: 0.002760557224974036\n",
      "Epoch: 70/100, Loss: 0.0019321285653859377\n",
      "Epoch: 80/100, Loss: 0.0006247422425076365\n",
      "Epoch: 90/100, Loss: 0.0015438655391335487\n",
      "Epoch: 100/100, Loss: 0.004492908250540495\n"
     ]
    }
   ],
   "source": [
    "#training\n",
    "criterion = torch.nn.MSELoss()\n",
    "optimizer = torch.optim.Adam(model.parameters(), lr=0.001)\n",
    "\n",
    "num_epochs = 100\n",
    "\n",
    "for epoch in range(num_epochs):\n",
    "    for inputs, targets in train_loader:\n",
    "        inputs = inputs.to(device)\n",
    "        targets = targets.to(device)\n",
    "        \n",
    "        model.train()\n",
    "        optimizer.zero_grad()\n",
    "        \n",
    "        h0 = torch.randn(model.num_layers, inputs.size(0), model.hidden_size).to(device)\n",
    "        c0 = torch.randn(model.num_layers, inputs.size(0), model.hidden_size).to(device)\n",
    "        \n",
    "        outputs, h0, c0 = model(inputs, h0, c0)\n",
    "        \n",
    "        loss = criterion(outputs.squeeze(), targets)\n",
    "        loss.backward()\n",
    "        optimizer.step()\n",
    "        \n",
    "        h0 = h0.detach()\n",
    "        c0 = c0.detach()\n",
    "\n",
    "    if (epoch+1) % 10 == 0:\n",
    "        print(f'Epoch: {epoch+1}/{num_epochs}, Loss: {loss.item()}')\n"
   ]
  },
  {
   "cell_type": "code",
   "execution_count": 22,
   "metadata": {},
   "outputs": [
    {
     "name": "stdout",
     "output_type": "stream",
     "text": [
      "Test loss: 0.12790453433990479\n"
     ]
    },
    {
     "data": {
      "image/png": "[encoded data removed]",
      "text/plain": [
       "<Figure size 1400x700 with 1 Axes>"
      ]
     },
     "metadata": {},
     "output_type": "display_data"
    }
   ],
   "source": [
    "#testing\n",
    "model.eval()\n",
    "with torch.no_grad():\n",
    "    for inputs, targets in test_loader:\n",
    "        inputs = inputs.to(device)\n",
    "        targets = targets.to(device)\n",
    "        \n",
    "        h0 = torch.randn(model.num_layers, inputs.size(0), model.hidden_size).to(device)\n",
    "        c0 = torch.randn(model.num_layers, inputs.size(0), model.hidden_size).to(device)\n",
    "        \n",
    "        outputs, h0, c0 = model(inputs, h0, c0)\n",
    "        \n",
    "        loss = criterion(outputs.squeeze(), targets)\n",
    "        print(f'Test loss: {loss.item()}')\n",
    "\n",
    "        outputs = outputs.squeeze().cpu().numpy()\n",
    "        targets = targets.cpu().numpy()\n",
    "        break\n",
    "\n",
    "#plot the results\n",
    "plt.figure(figsize=(14, 7))\n",
    "plt.plot(targets, label='True')\n",
    "plt.plot(outputs, label='Predicted')\n",
    "plt.legend()\n",
    "plt.show()"
   ]
  }
 ],
 "metadata": {
  "kernelspec": {
   "display_name": "Python 3",
   "language": "python",
   "name": "python3"
  },
  "language_info": {
   "codemirror_mode": {
    "name": "ipython",
    "version": 3
   },
   "file_extension": ".py",
   "mimetype": "text/x-python",
   "name": "python",
   "nbconvert_exporter": "python",
   "pygments_lexer": "ipython3",
   "version": "3.12.6"
  }
 },
 "nbformat": 4,
 "nbformat_minor": 2
}
